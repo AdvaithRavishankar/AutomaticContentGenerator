{
 "cells": [
  {
   "cell_type": "code",
   "execution_count": 2,
   "metadata": {},
   "outputs": [],
   "source": [
    "from PIL import Image, ImageDraw, ImageFont\n",
    "import textwrap"
   ]
  },
  {
   "cell_type": "code",
   "execution_count": 27,
   "metadata": {},
   "outputs": [],
   "source": [
    "image_path = \"Templates/assets/0.png\"\n",
    "min_scale=0.05 \n",
    "buffer_scale=0.03\n",
    "font_scale=1\n",
    "top_text=\"hi, my name is jeffery, aaaaaaaaaa aaaaaaaaaaa aaaaaaaaaaa\"\n",
    "fontFile = \"Fonts/arial.ttf\"\n",
    "x1=40\n",
    "y1=500\n",
    "x2=780\n",
    "y2=800\n"
   ]
  },
  {
   "cell_type": "code",
   "execution_count": 28,
   "metadata": {},
   "outputs": [],
   "source": [
    "image = Image.open(image_path)\n",
    "\n",
    "# Calculate buffer size based on buffer_scale\n",
    "buffer_size = int(buffer_scale * image.width)\n",
    "\n",
    "# Get a drawing context\n",
    "d = ImageDraw.Draw(image)\n",
    "\n",
    "# Split the text into words\n",
    "words = top_text.split()\n",
    "\n",
    "# Initialize the font size and wrapped text\n",
    "font_size = int(font_scale * image.width)\n",
    "fnt = ImageFont.truetype(fontFile, font_size)\n",
    "wrapped_text = top_text\n",
    "\n",
    "\n",
    "# Try to fit the text on a single line by reducing the font size\n",
    "while d.textbbox((x1, y1), wrapped_text, font=fnt)[2] > (x2-x1) - 2 * buffer_size:\n",
    "    font_size *= 0.9  # Reduce the font size by 10%\n",
    "\n",
    "    if font_size < min_scale * (x2-x1):\n",
    "        # If the font size is less than the minimum scale, wrap the text\n",
    "        lines = [words[0]]\n",
    "        for word in words[1:]:\n",
    "            new_line = (lines[-1] + ' ' + word).rstrip()\n",
    "            if d.textbbox((x1,y1), new_line, font=fnt)[2] > (x2-x1) - 2 * buffer_size:\n",
    "                lines.append(word)\n",
    "            else:\n",
    "                lines[-1] = new_line\n",
    "        wrapped_text = '\\n'.join(lines)\n",
    "        break\n",
    "    fnt = ImageFont.truetype(fontFile, int(font_size))\n",
    "\n",
    "# Calculate the bounding box of the text\n",
    "textbbox_val = d.multiline_textbbox((x1,y1), wrapped_text, font=fnt)\n",
    "\n",
    "# Create a white band for the top text, with a buffer equal to 10% of the font size\n",
    "band_height = textbbox_val[3] - textbbox_val[1] + int(font_size * 0.1) + 2 * buffer_size\n",
    "band = Image.new('RGBA', (x2-x1, band_height), (255,255,255,255))\n",
    "\n",
    "# Draw the text on the white band\n",
    "d = ImageDraw.Draw(band)\n",
    "\n",
    "# The midpoint of the width and height of the bounding box\n",
    "text_x = band.width // 2\n",
    "text_y = band.height // 2\n",
    "\n",
    "d.multiline_text((text_x, text_y), wrapped_text, font=fnt, fill=(0,0,0,255), anchor=\"mm\", align=\"center\")\n",
    "\n",
    "image.paste(band, (x1,y1))\n",
    "\n"
   ]
  },
  {
   "cell_type": "code",
   "execution_count": 29,
   "metadata": {},
   "outputs": [],
   "source": [
    "image.show()"
   ]
  }
 ],
 "metadata": {
  "kernelspec": {
   "display_name": "base",
   "language": "python",
   "name": "python3"
  },
  "language_info": {
   "codemirror_mode": {
    "name": "ipython",
    "version": 3
   },
   "file_extension": ".py",
   "mimetype": "text/x-python",
   "name": "python",
   "nbconvert_exporter": "python",
   "pygments_lexer": "ipython3",
   "version": "3.7.6"
  },
  "orig_nbformat": 4
 },
 "nbformat": 4,
 "nbformat_minor": 2
}
